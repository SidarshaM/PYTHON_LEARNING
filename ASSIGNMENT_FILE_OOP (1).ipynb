{
 "cells": [
  {
   "cell_type": "code",
   "execution_count": 1,
   "id": "9c8bd978-980c-4f2a-bcdb-b9a4f2adc49c",
   "metadata": {},
   "outputs": [
    {
     "name": "stdout",
     "output_type": "stream",
     "text": [
      "Assignment - Functions and OOPS, file handling\n",
      "Swathi mol\n",
      "â€¢\n",
      "Oct 29\n",
      "10 points\n",
      "Due Nov 11, 9:29â€¯PM\n",
      "(Score: 1)\n",
      "Write a Python program to read a file and display its contents.\n",
      "(Score: 1)\n",
      "Write a Python program to copy the contents of one file to another file.\n",
      "(Score: 1)\n",
      "Write a Python program to read the content of a file and count the total number of words in that file.\n",
      "(Score: 1)\n",
      "Write a Python program to read the content of a file and count the number of occurrences of a specific word in that file.\n",
      "(Score: 1)\n",
      "Write a Python program that prompts the user to input a string and converts it to an integer. Use try-except blocks to handle any exceptions that might occur.\n",
      "(Score: 1)\n",
      "Write a Python program that prompts the user to input a list of integers and raises an exception if any of the integers in the list are negative.\n",
      "(Score: 1)\n",
      "Write a Python program that prompts the user to input a list of integers and computes the average of those integers. Use try-except blocks to handle any exceptions that might occur. Use the finally clause to print a message indicating that the program has finished running.\n",
      "(Score: 1)\n",
      "Write a Python program that prompts the user to input a filename and writes a string to that file. Use try-except blocks to handle any exceptions that might occur and print a welcome message if no exception occurred.\n",
      "(Score: 1)\n",
      "Write a Python function called calculate_sum that takes a list of numbers as an argument and returns the sum of all numbers in the list.\n",
      " (Score: 1)\n",
      "Write a Python function called is_palindrome that takes a string as an argument and returns True if the string is a palindrome (reads the same forward and backward), and False otherwise.\n"
     ]
    }
   ],
   "source": [
    "#Assignment - Functions and OOPS, file handling\n",
    "#1.Write a Python program to read a file and display its contents.\n",
    "newfile=open(r\"C:\\Users\\Athul\\Desktop\\ENTRY DSML\\PYTHON\\Assignment - Functions and OOPS, fi.txt\")\n",
    "print(newfile.read())\n",
    "#newfile.read()\n",
    "newfile.close()"
   ]
  },
  {
   "cell_type": "code",
   "execution_count": 2,
   "id": "8998129d-0f73-41d0-8f77-808b55a1178d",
   "metadata": {
    "scrolled": true
   },
   "outputs": [
    {
     "name": "stdout",
     "output_type": "stream",
     "text": [
      "\n",
      "\n",
      "****************Copied file***********************\n",
      "\n",
      "Assignment - Functions and OOPS, file handling\n",
      "Swathi mol\n",
      "â€¢\n",
      "Oct 29\n",
      "10 points\n",
      "Due Nov 11, 9:29â€¯PM\n",
      "(Score: 1)\n",
      "Write a Python program to read a file and display its contents.\n",
      "(Score: 1)\n",
      "Write a Python program to copy the contents of one file to another file.\n",
      "(Score: 1)\n",
      "Write a Python program to read the content of a file and count the total number of words in that file.\n",
      "(Score: 1)\n",
      "Write a Python program to read the content of a file and count the number of occurrences of a specific word in that file.\n",
      "(Score: 1)\n",
      "Write a Python program that prompts the user to input a string and converts it to an integer. Use try-except blocks to handle any exceptions that might occur.\n",
      "(Score: 1)\n",
      "Write a Python program that prompts the user to input a list of integers and raises an exception if any of the integers in the list are negative.\n",
      "(Score: 1)\n",
      "Write a Python program that prompts the user to input a list of integers and computes the average of those integers. Use try-except blocks to handle any exceptions that might occur. Use the finally clause to print a message indicating that the program has finished running.\n",
      "(Score: 1)\n",
      "Write a Python program that prompts the user to input a filename and writes a string to that file. Use try-except blocks to handle any exceptions that might occur and print a welcome message if no exception occurred.\n",
      "(Score: 1)\n",
      "Write a Python function called calculate_sum that takes a list of numbers as an argument and returns the sum of all numbers in the list.\n",
      " (Score: 1)\n",
      "Write a Python function called is_palindrome that takes a string as an argument and returns True if the string is a palindrome (reads the same forward and backward), and False otherwise.\n"
     ]
    }
   ],
   "source": [
    "#2.Write a Python program to copy the contents of one file to another file.\n",
    "file1=open(r\"C:\\Users\\Athul\\Desktop\\ENTRY DSML\\PYTHON\\Assignment - Functions and OOPS, fi.txt\")\n",
    "file2=open(\"C:/Users/Athul/Desktop/ENTRY DSML/PYTHON/CopiedfromAssignment - Functions and OOPS, fi.txt\",'w')\n",
    "rlines=file1.readlines()\n",
    "file2.write(\"\\n\\n****************Copied file***********************\\n\\n\")\n",
    "file2.writelines(rlines)\n",
    "file1.close()\n",
    "file2.close()\n",
    "file2=open(\"C:/Users/Athul/Desktop/ENTRY DSML/PYTHON/CopiedfromAssignment - Functions and OOPS, fi.txt\",'r')\n",
    "print(file2.read())\n",
    "file2.close()"
   ]
  },
  {
   "cell_type": "code",
   "execution_count": 3,
   "id": "34da691f-6170-436b-acd9-d7eba6083ba6",
   "metadata": {},
   "outputs": [
    {
     "name": "stdout",
     "output_type": "stream",
     "text": [
      "Number of words =  305\n"
     ]
    }
   ],
   "source": [
    "#3.Write a Python program to read the content of a file and count the total number of words in that file.\n",
    "with open(r\"C:\\Users\\Athul\\Desktop\\ENTRY DSML\\PYTHON\\Assignment - Functions and OOPS, fi.txt\") as cw_file:\n",
    "    content=cw_file.read()\n",
    "    cw_file.close()\n",
    "    #print(content)\n",
    "    word_count=content.split()\n",
    "    print(\"Number of words = \",len(word_count))\n",
    "    "
   ]
  },
  {
   "cell_type": "code",
   "execution_count": 4,
   "id": "4d8f0fb1-e4a9-4f5c-ba87-43630e65a842",
   "metadata": {},
   "outputs": [
    {
     "name": "stdout",
     "output_type": "stream",
     "text": [
      "Number of words =  11\n"
     ]
    }
   ],
   "source": [
    "#4Write a Python program to read the content of a file and count the number of occurrences of a specific word in that file.\n",
    "with open(r\"C:\\Users\\Athul\\Desktop\\ENTRY DSML\\PYTHON\\Assignment - Functions and OOPS, fi.txt\") as c_s_w_file:\n",
    "    content=c_s_w_file.read()\n",
    "    c_s_w_file.close()\n",
    "    #print(content)\n",
    "    word_count=content.split(sep=\"Write\")#specific word here is \"Write\n",
    "    print(\"Number of words = \",len(word_count))"
   ]
  },
  {
   "cell_type": "code",
   "execution_count": 5,
   "id": "b2b485e9-4ccc-4a82-bbc8-fbdd6f0f0887",
   "metadata": {},
   "outputs": [
    {
     "name": "stdin",
     "output_type": "stream",
     "text": [
      "Enter a number    1\n"
     ]
    },
    {
     "name": "stdout",
     "output_type": "stream",
     "text": [
      "Sum=  101\n"
     ]
    }
   ],
   "source": [
    "#5Write a Python program that prompts the user to input a string and converts it to an integer. Use try-except blocks to handle any exceptions that might occur.\n",
    "\n",
    "try:\n",
    "    str=input(\"Enter a number   \")\n",
    "    num=int(str)\n",
    "except:\n",
    "    print(\"Please Enter a number \")#Value Error Handler\n",
    "else:\n",
    "    sum=num+100\n",
    "    print(\"Sum= \",sum)\n",
    "\n",
    " \n"
   ]
  },
  {
   "cell_type": "code",
   "execution_count": 6,
   "id": "5e623a44-ab4b-4725-942c-a6eb18f4c2cc",
   "metadata": {},
   "outputs": [
    {
     "name": "stdin",
     "output_type": "stream",
     "text": [
      "Enter the limit   1\n"
     ]
    },
    {
     "name": "stdout",
     "output_type": "stream",
     "text": [
      "******Enter  1  positive numbers******\n",
      "\n",
      "Enter a positive  number \n"
     ]
    },
    {
     "name": "stdin",
     "output_type": "stream",
     "text": [
      " 1\n"
     ]
    },
    {
     "name": "stdout",
     "output_type": "stream",
     "text": [
      "List of items are \n",
      "[1]\n"
     ]
    }
   ],
   "source": [
    "# 6Write a Python program that prompts the user to input a list of integers and raises an exception if any of the integers in the list are negative.\n",
    "           \n",
    "n=int(input(\"Enter the limit  \"))#reading size of list\n",
    "list=[]\n",
    "print(\"******Enter \",n,\" positive numbers******\\n\")\n",
    "for i in range(0, n):                \n",
    "    try:\n",
    "        print(\"Enter a positive  number \")\n",
    "        item = int(input())\n",
    "        if item>=0 :\n",
    "            list.append(item)  ## adding item to list\n",
    "        else:\n",
    "            raise Exception   \n",
    "    except Exception:\n",
    "        print(\"Invalid input\")\n",
    "        fun()\n",
    "    \n",
    "print(\"List of items are \")    \n",
    "print(list)"
   ]
  },
  {
   "cell_type": "code",
   "execution_count": 7,
   "id": "f4644afc-d6c8-4bc1-af56-1c636f0e765d",
   "metadata": {},
   "outputs": [
    {
     "name": "stdin",
     "output_type": "stream",
     "text": [
      "Enter the limit 1\n"
     ]
    },
    {
     "name": "stdout",
     "output_type": "stream",
     "text": [
      "Enter  1 numbers \n",
      "\tEnter the  1 number\n",
      "\n"
     ]
    },
    {
     "name": "stdin",
     "output_type": "stream",
     "text": [
      " 1\n"
     ]
    },
    {
     "name": "stdout",
     "output_type": "stream",
     "text": [
      "List of Numbers are \n",
      "[1]\n",
      "Total = 1\n",
      "Average = 1.0\n"
     ]
    }
   ],
   "source": [
    "#7Write a Python program that prompts the user to input a list of integers and computes the average of those integers.\n",
    "#Use try-except blocks to handle any exceptions that might occur. \n",
    "#Use the finally clause to print a message indicating that the program has finished running.\n",
    "n=int(input(\"Enter the limit\"))\n",
    "list=[]\n",
    "sum=0\n",
    "print(\"Enter \",n,\"numbers \")\n",
    "for i in range(0,n):\n",
    "    try:\n",
    "        print(\"\\tEnter the \",i+1,\"number\\n\")\n",
    "        i=int(input())\n",
    "    except:\n",
    "        print(\"exception caught\")\n",
    "        print(\"\\tEnter the \",i+1,\"number\\n\")\n",
    "        i=int(input())\n",
    "    else:\n",
    "        list.append(i)\n",
    "        sum=sum+i\n",
    "avg=sum/n\n",
    "print(\"List of Numbers are \")\n",
    "print(list)\n",
    "print(\"Total =\",sum)\n",
    "print(\"Average =\",avg)"
   ]
  },
  {
   "cell_type": "code",
   "execution_count": 8,
   "id": "c21a140e-b90a-4013-a140-1fbc0b4d40e6",
   "metadata": {},
   "outputs": [
    {
     "name": "stdin",
     "output_type": "stream",
     "text": [
      "Enter the name of file  1\n",
      "Enter the file content  1\n"
     ]
    },
    {
     "name": "stdout",
     "output_type": "stream",
     "text": [
      "Content of file  1 is --   1\n"
     ]
    }
   ],
   "source": [
    "#8.Write a Python program that prompts the user to input a filename and writes a string to that file. \n",
    "#Use try-except blocks to handle any exceptions that might occur and print a welcome message if no exception occurred.\n",
    "try:\n",
    "    name_file=input(\"Enter the name of file \")\n",
    "    str=input(\"Enter the file content \")\n",
    "    filenew=open(\"C:/Users/Athul/Desktop/ENTRY DSML/PYTHON/\"+name_file,\"w\")\n",
    "    filenew.write(str)\n",
    "    filenew.close()\n",
    "except IOError:\n",
    "    print(\"Error while writing \")\n",
    "else:\n",
    "    filenew=open(\"C:/Users/Athul/Desktop/ENTRY DSML/PYTHON/\"+name_file,\"r\")\n",
    "    print(\"Content of file \",name_file,\"is --  \",filenew.read())\n",
    "    filenew.close()\n",
    "    \n",
    "  "
   ]
  },
  {
   "cell_type": "code",
   "execution_count": 28,
   "id": "f0903cb2-1316-4114-838b-c5e05543f8ec",
   "metadata": {},
   "outputs": [
    {
     "name": "stdin",
     "output_type": "stream",
     "text": [
      "Enter the size of the list  1\n"
     ]
    },
    {
     "name": "stdout",
     "output_type": "stream",
     "text": [
      "Enter the  1 number \n"
     ]
    },
    {
     "name": "stdin",
     "output_type": "stream",
     "text": [
      " 1\n"
     ]
    },
    {
     "name": "stdout",
     "output_type": "stream",
     "text": [
      "list of numbers are \n",
      "[1]\n",
      "Sum = 1\n"
     ]
    }
   ],
   "source": [
    "#9Write a Python function called calculate_sum that takes a list of numbers as an argument and returns the sum of all numbers in the list.\n",
    "def calculate_sum(numbers,n):\n",
    "    sum=0\n",
    "    for i in range(1, n+1): \n",
    "        sum=sum+i\n",
    "        #print(\"Sum=\",sum)\n",
    "    return sum\n",
    "\n",
    "numbers=[]\n",
    "n=int(input(\"Enter the size of the list \"))\n",
    "for i in range(0, n): \n",
    "    print(\"Enter the \",i+1,\"number \")\n",
    "    item=int(input())\n",
    "    numbers.append(item)\n",
    "print(\"list of numbers are \")\n",
    "print(numbers)\n",
    "sum=calculate_sum(numbers,n)\n",
    "print(\"Sum =\",sum)"
   ]
  },
  {
   "cell_type": "code",
   "execution_count": 32,
   "id": "a998eb6e-2495-4052-a44f-d83840741dc4",
   "metadata": {},
   "outputs": [
    {
     "name": "stdin",
     "output_type": "stream",
     "text": [
      "Enter the string hindi\n"
     ]
    },
    {
     "name": "stdout",
     "output_type": "stream",
     "text": [
      "Not a Palindrome\n"
     ]
    }
   ],
   "source": [
    "#Write a Python function called is_palindrome that takes a string as an argument \n",
    "#and returns True if the string is a palindrome (reads the same forward and backward), and False otherwise.\n",
    "def is_palindrome(str):\n",
    "   return str==str[::-1]   \n",
    "str=input(\"Enter the string\")\n",
    "flag=is_palindrome(str)\n",
    "if flag==True:\n",
    "    print(\"Palindrome\")\n",
    "else:\n",
    "    print(\"Not a Palindrome\")"
   ]
  },
  {
   "cell_type": "code",
   "execution_count": null,
   "id": "1c51ecc7-a0dc-475c-ba0c-70c624051d18",
   "metadata": {},
   "outputs": [],
   "source": []
  }
 ],
 "metadata": {
  "kernelspec": {
   "display_name": "Python 3 (ipykernel)",
   "language": "python",
   "name": "python3"
  },
  "language_info": {
   "codemirror_mode": {
    "name": "ipython",
    "version": 3
   },
   "file_extension": ".py",
   "mimetype": "text/x-python",
   "name": "python",
   "nbconvert_exporter": "python",
   "pygments_lexer": "ipython3",
   "version": "3.12.4"
  }
 },
 "nbformat": 4,
 "nbformat_minor": 5
}
